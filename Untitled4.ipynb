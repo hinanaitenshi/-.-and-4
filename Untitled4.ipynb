{
 "cells": [
  {
   "cell_type": "code",
   "execution_count": 5,
   "metadata": {},
   "outputs": [
    {
     "name": "stdout",
     "output_type": "stream",
     "text": [
      "PYTHON\n",
      "JAVA\n",
      "SQL\n",
      "SQL\n",
      "JAVA\n",
      "JAVA\n",
      "4\n",
      "['PYTHON', 'JAVA', 'SQL', 'JAVA']\n",
      "['C#', 'PYTHON', 'JAVA', 'SQL', 'JAVA']\n",
      "['C#', 'PYTHON', 'JAVA', 'SQL']\n",
      "['PYTHON', 'JAVA', 'SQL']\n"
     ]
    }
   ],
   "source": [
    "my_list=[]\n",
    "my_list1=()\n",
    "my_list2=[\"PYTHON\",\"JAVA\",\"SQL\"]\n",
    "print(my_list2[0])\n",
    "print(my_list2[1])\n",
    "print(my_list2[2])\n",
    "print(my_list2[-1])\n",
    "print(my_list2[-2])\n",
    "my_list2.append(\"JAVA\")\n",
    "print(my_list2[-1])\n",
    "print(len(my_list2))\n",
    "print(my_list2)\n",
    "my_list2.insert(0,\"C#\")\n",
    "print(my_list2)\n",
    "del my_list2[-1]\n",
    "print(my_list2)\n",
    "my_list2.remove(\"C#\")\n",
    "print(my_list2)"
   ]
  },
  {
   "cell_type": "code",
   "execution_count": 6,
   "metadata": {},
   "outputs": [
    {
     "name": "stdout",
     "output_type": "stream",
     "text": [
      "['python', 'js', 'SQL']\n"
     ]
    }
   ],
   "source": [
    "#list 串列\n",
    "my_list1 = []\n",
    "my_list2 = list()\n",
    "my_list2 = ['python','js','SQL']\n",
    "print(my_list2)"
   ]
  },
  {
   "cell_type": "code",
   "execution_count": 7,
   "metadata": {},
   "outputs": [
    {
     "name": "stdout",
     "output_type": "stream",
     "text": [
      "['python', 'js']\n"
     ]
    }
   ],
   "source": [
    "#刪除\n",
    "languages = ['python','js','go']\n",
    "del languages[-1]\n",
    "print(languages)"
   ]
  },
  {
   "cell_type": "code",
   "execution_count": 8,
   "metadata": {},
   "outputs": [
    {
     "name": "stdout",
     "output_type": "stream",
     "text": [
      "True\n",
      "False\n",
      "['python', 'js', 'go', 'python', 'js', 'go', 'python', 'js', 'go', 'python', 'js', 'go', 'python', 'js', 'go']\n"
     ]
    }
   ],
   "source": [
    "a = ['python','js','go']\n",
    "print('python' in a)\n",
    "print('java' in a)\n",
    "\n",
    "print(a*5)"
   ]
  },
  {
   "cell_type": "code",
   "execution_count": 9,
   "metadata": {},
   "outputs": [
    {
     "name": "stdout",
     "output_type": "stream",
     "text": [
      "[1, 2, 3]\n",
      "[1, 3, 5, 7, 9]\n",
      "[1, 2, 3, 4, 5, 6, 7]\n",
      "1\n",
      "7\n",
      "0\n",
      "1\n",
      "[7, 6, 5, 4, 3, 2, 1]\n",
      "[1, 2, 3, 4, 5, 6, 7]\n"
     ]
    }
   ],
   "source": [
    "a = [1,2,3,4,5,6,7,8,9]\n",
    "b = a[0:3] #範圍取值\n",
    "print(b)\n",
    "c = a[0:9:2] #間隔取值\n",
    "print(c)\n",
    "del a[7:9]\n",
    "print(a)\n",
    "print(min(a)) #取最小值\n",
    "print(max(a)) #取最大值\n",
    "print(a.index(1)) #1出現的索引值\n",
    "print(a.count(1)) #1出現的次數\n",
    "a.reverse() #a的反轉\n",
    "print(a)\n",
    "a.sort() #a的串列排序\n",
    "print(a)"
   ]
  },
  {
   "cell_type": "code",
   "execution_count": 10,
   "metadata": {},
   "outputs": [
    {
     "name": "stdout",
     "output_type": "stream",
     "text": [
      "樣本 [5, 6, 7, 9, 1, 2, 3, 5, 4]\n",
      "平均值： 4.666666666666667\n",
      "最大值： 9\n",
      "最小值： 1\n",
      "變異數： 6.25\n",
      "標準差： 2.5\n"
     ]
    }
   ],
   "source": [
    "import  statistics as st\n",
    "sample=[5,6,7,9,1,2,3,5,4]\n",
    "print(\"樣本\",sample)\n",
    "print(\"平均值：\", st.mean(sample))\n",
    "print(\"最大值：\", max(sample))\n",
    "print(\"最小值：\", min(sample))\n",
    "print(\"變異數：\", round(st.variance(sample),2))\n",
    "print(\"標準差：\", round(st.stdev(sample),2))"
   ]
  },
  {
   "cell_type": "code",
   "execution_count": 4,
   "metadata": {},
   "outputs": [
    {
     "name": "stdout",
     "output_type": "stream",
     "text": [
      "[1, 2, 3, 4, 5, 6, 7]\n",
      "(1, 2, 3, 4, 5, 6, 7)\n",
      "1\n"
     ]
    }
   ],
   "source": [
    "a = [1,2,3,4,5,6,7]\n",
    "a_tuple = tuple(a)\n",
    "print(a)\n",
    "print(a_tuple)\n",
    "print(a_tuple[0])"
   ]
  },
  {
   "cell_type": "code",
   "execution_count": 3,
   "metadata": {},
   "outputs": [
    {
     "name": "stdout",
     "output_type": "stream",
     "text": [
      "('python', 'js', 'go')\n",
      "python\n"
     ]
    }
   ],
   "source": [
    "a_list =['python','js','go']\n",
    "a_tuple = tuple(a_list)\n",
    "print(a_tuple)\n",
    "print(a_tuple[0])"
   ]
  },
  {
   "cell_type": "code",
   "execution_count": 2,
   "metadata": {},
   "outputs": [
    {
     "name": "stdout",
     "output_type": "stream",
     "text": [
      "tony\n",
      "20\n",
      "python\n",
      "dict_keys(['name', 'age', 'sex', 'height', 'weight'])\n",
      "dict_values(['tony', 20, 'M', 170, 55])\n",
      "dict_items([('name', 'tony'), ('age', 20), ('sex', 'M'), ('height', 170), ('weight', 55)])\n",
      "{'name': 'tony', 'age': 20, 'sex': 'M', 'height': 170, 'wieght': 55}\n"
     ]
    }
   ],
   "source": [
    "#dictionary(簡稱dict)，是含有key(鍵值)的串列(list)\n",
    "person_dict = {'name':'tony','age':20,'sex':'M','height':170,'weight':55}\n",
    "print(person_dict['name'])\n",
    "print(person_dict['age'])\n",
    "a_list= ['python','java','vb']\n",
    "a_dict= {0:'python',1:'java',2:'vb'}\n",
    "print(a_dict[0])\n",
    "print(person_dict.keys())\n",
    "print(person_dict.values())\n",
    "print(person_dict.items())\n",
    "a=['name','age','sex','height','wieght']\n",
    "b=['tony',20,'M',170,55]\n",
    "ab_dict = dict(zip(a,b)) #兩個list組合而成(dictionaty)\n",
    "print(ab_dict)"
   ]
  },
  {
   "cell_type": "code",
   "execution_count": null,
   "metadata": {},
   "outputs": [],
   "source": []
  }
 ],
 "metadata": {
  "kernelspec": {
   "display_name": "Python 3",
   "language": "python",
   "name": "python3"
  },
  "language_info": {
   "codemirror_mode": {
    "name": "ipython",
    "version": 3
   },
   "file_extension": ".py",
   "mimetype": "text/x-python",
   "name": "python",
   "nbconvert_exporter": "python",
   "pygments_lexer": "ipython3",
   "version": "3.6.4"
  }
 },
 "nbformat": 4,
 "nbformat_minor": 2
}
